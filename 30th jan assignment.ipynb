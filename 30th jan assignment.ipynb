{
 "cells": [
  {
   "cell_type": "code",
   "execution_count": 6,
   "id": "ec832573-9685-4ca0-b743-0daac44fc088",
   "metadata": {},
   "outputs": [
    {
     "name": "stdin",
     "output_type": "stream",
     "text": [
      "Enter the percentage: 59.0\n"
     ]
    },
    {
     "name": "stdout",
     "output_type": "stream",
     "text": [
      "D\n"
     ]
    }
   ],
   "source": [
    "marks = float(input(\"Enter the percentage:\"))\n",
    "if marks>90 :\n",
    "    print(\"A\")\n",
    "elif marks >=80 and marks<=90:\n",
    "          print(\"B\")\n",
    "elif marks >=60 and marks<=80:\n",
    "          print(\"C\")\n",
    "else:\n",
    "          print(\"D\")\n"
   ]
  },
  {
   "cell_type": "code",
   "execution_count": null,
   "id": "130e38ee-b555-462b-8dfe-8456d4d5bc05",
   "metadata": {},
   "outputs": [],
   "source": [
    "\"\"\"Write a program to accept the cost price of a bike and display the road tax to be paid according to the following criteria.\n",
    "       \n",
    "          Tax                                      Cost Price(In Rs)\n",
    "          15%                                     >100000\n",
    "           10%                                    >50000 and<=100000\n",
    "          5%                                        <=50000\n",
    "     Solution:\"\"\"\n",
    "\n",
    "\n",
    "costPrice = int(input(\"Enter the cost price of the Bike:\"))\n",
    "if costPrice>100000:\n",
    "    print(\"Tax to be paid is 15%\")\n",
    "elif costPrice >50000 and costPrice<=100000:\n",
    "    print(\"Tax to be paid is 10%\")\n",
    "else:\n",
    "    print(\"Tax to be paid is 5%\")  "
   ]
  },
  {
   "cell_type": "code",
   "execution_count": 16,
   "id": "4e89addf-e528-4ada-891c-9fe5de60948f",
   "metadata": {},
   "outputs": [
    {
     "name": "stdin",
     "output_type": "stream",
     "text": [
      "Enter the city: Delhi\n"
     ]
    },
    {
     "name": "stdout",
     "output_type": "stream",
     "text": [
      "Red Fort\n"
     ]
    }
   ],
   "source": [
    "\"\"\" 3.Accept any city from the user and display monuments of that city.\n",
    "     City                                 Monument\n",
    "    Delhi                                Red Fort\n",
    "    Agra                                 Taj Mahal\n",
    "   Jaipur                                 Jai Mahal\n",
    "\n",
    "Solution:\"\"\"\n",
    "\n",
    "\n",
    "city= input(\"Enter the city:\")\n",
    "if city==\"Delhi\":\n",
    "    print(\"Red Fort\")\n",
    "elif city==\"Agra\":\n",
    "    print(\"Taj Mahal\")\n",
    "elif city==\"Jaipur\":\n",
    "    print(\"Jai Mahal\")"
   ]
  },
  {
   "cell_type": "code",
   "execution_count": 15,
   "id": "6d199c79-dc84-4fb4-b9f1-57de81a79474",
   "metadata": {},
   "outputs": [
    {
     "name": "stdin",
     "output_type": "stream",
     "text": [
      "Enter a number:  21\n"
     ]
    },
    {
     "name": "stdout",
     "output_type": "stream",
     "text": [
      "The given number can be divided by 3 is 1 times before it is less than or equal to 10.\n"
     ]
    }
   ],
   "source": [
    "#4. Check how many times a given number can be divided by 3 before it is less than or equal to 10.\n",
    "\n",
    "#Solution:\n",
    "\n",
    "number = int(input(\"Enter a number: \"))\n",
    "\n",
    "count = 0\n",
    "while number > 10:\n",
    "    number /= 3\n",
    "    count += 1\n",
    "\n",
    "print(\"The given number can be divided by 3 is\", count, \"times before it is less than or equal to 10.\")\n"
   ]
  },
  {
   "cell_type": "code",
   "execution_count": 14,
   "id": "e1ba33e6-7fbe-40df-899d-d59ef4fbeb82",
   "metadata": {},
   "outputs": [
    {
     "data": {
      "text/plain": [
       "\"In Python, a while loop is used to execute a block of code repeatedly until a certain condition is met. The condition is checked before each iteration \\nof the loop, and the loop continues as long as the condition is True. Once the condition becomes False, the loop terminates, and the program continues\\nto execute the code that comes after the loop.\\n\\nHere's an example of a while loop in Python that prints the first 10 natural numbers:\\nn = 1  # Initialize a counter variable to 1\\n\\nwhile n <= 10:  # Keep looping until the counter is less than or equal to 10\\n    print(n)  # Print the current value of the counter\\n    n += 1  # Increment the counter by 1\\n\\nIn this example, we use a while loop to print the first 10 natural numbers. We start by initializing a counter variable n to 1. Then, we use a while \\nloop to keep looping until the value of n is less than or equal to 10. Inside the loop, we print the current value of n, and then we increment n by 1. The loop continues to execute until n becomes 11, which is greater than 10, and then the program continues to execute the code that comes after the loop.\\n\\nThe while loop is useful when we need to execute a block of code repeatedly until a certain condition is met. For example, we can use a while loop to \\nread and process input from a user until the user enters a specific value. We can also use a while loop to implement a game loop, where the game \\ncontinues to run until a certain condition, such as the player winning or losing the game, is met.\\n\\nHowever, it's important to be careful when using a while loop, as it can lead to an infinite loop if the condition never becomes False. For example, \\nif we forget to increment the counter variable in the previous example, the loop will continue to execute indefinitely, and the program will hang:\\n    \\nn = 1\\nwhile n <= 10:\\n    print(n)\\n\\nTo avoid infinite loops, we need to make sure that the condition of the while loop eventually becomes False, either by changing the value of the \\nvariable inside the loop or by using a break statement to exit the loop when a certain condition is met.\""
      ]
     },
     "execution_count": 14,
     "metadata": {},
     "output_type": "execute_result"
    }
   ],
   "source": [
    "#5. Why and when to use While Loop in Python give a detailed description with example .\n",
    "#Solution:\n",
    "\n",
    "\n",
    "\n",
    "\n",
    "\"\"\"In Python, a while loop is used to execute a block of code repeatedly until a certain condition is met. The condition is checked before each iteration \n",
    "of the loop, and the loop continues as long as the condition is True. Once the condition becomes False, the loop terminates, and the program continues\n",
    "to execute the code that comes after the loop.\n",
    "\n",
    "Here's an example of a while loop in Python that prints the first 10 natural numbers:\n",
    "n = 1  # Initialize a counter variable to 1\n",
    "\n",
    "while n <= 10:  # Keep looping until the counter is less than or equal to 10\n",
    "    print(n)  # Print the current value of the counter\n",
    "    n += 1  # Increment the counter by 1\n",
    "\n",
    "In this example, we use a while loop to print the first 10 natural numbers. We start by initializing a counter variable n to 1. Then, we use a while \n",
    "loop to keep looping until the value of n is less than or equal to 10. Inside the loop, we print the current value of n, and then we increment n by 1. The loop continues to execute until n becomes 11, which is greater than 10, and then the program continues to execute the code that comes after the loop.\n",
    "\n",
    "The while loop is useful when we need to execute a block of code repeatedly until a certain condition is met. For example, we can use a while loop to \n",
    "read and process input from a user until the user enters a specific value. We can also use a while loop to implement a game loop, where the game \n",
    "continues to run until a certain condition, such as the player winning or losing the game, is met.\n",
    "\n",
    "However, it's important to be careful when using a while loop, as it can lead to an infinite loop if the condition never becomes False. For example, \n",
    "if we forget to increment the counter variable in the previous example, the loop will continue to execute indefinitely, and the program will hang:\n",
    "    \n",
    "n = 1\n",
    "while n <= 10:\n",
    "    print(n)\n",
    "\n",
    "To avoid infinite loops, we need to make sure that the condition of the while loop eventually becomes False, either by changing the value of the \n",
    "variable inside the loop or by using a break statement to exit the loop when a certain condition is met.\"\"\"\n"
   ]
  },
  {
   "cell_type": "code",
   "execution_count": 11,
   "id": "d63b837d-4d08-48c6-85b2-2d42225c82cf",
   "metadata": {},
   "outputs": [
    {
     "name": "stdout",
     "output_type": "stream",
     "text": [
      "*\n",
      "**\n",
      "***\n",
      "****\n",
      "*****\n"
     ]
    }
   ],
   "source": [
    "#6.Use Nested while loop to print 3 different patterns.\n",
    "#Solution:\n",
    "\n",
    "\n",
    "# Pattern 1: Right Triangle\n",
    "n = 5  # Size of the triangle\n",
    "i = 1  # Counter variable\n",
    "\n",
    "while i <= n:\n",
    "    j = 1\n",
    "    while j <= i:\n",
    "        print(\"*\", end=\"\")\n",
    "        j += 1\n",
    "    print()\n",
    "    i += 1\n"
   ]
  },
  {
   "cell_type": "code",
   "execution_count": 12,
   "id": "072863ff-5712-40a7-9071-2ccceafdc41f",
   "metadata": {},
   "outputs": [
    {
     "name": "stdout",
     "output_type": "stream",
     "text": [
      "*****\n",
      "****\n",
      "***\n",
      "**\n",
      "*\n"
     ]
    }
   ],
   "source": [
    "# Pattern 2: Inverted Triangle\n",
    "n = 5  # Size of the triangle\n",
    "i = n  # Counter variable\n",
    "\n",
    "while i >= 1:\n",
    "    j = 1\n",
    "    while j <= i:\n",
    "        print(\"*\", end=\"\")\n",
    "        j += 1\n",
    "    print()\n",
    "    i -= 1\n"
   ]
  },
  {
   "cell_type": "code",
   "execution_count": 13,
   "id": "9cf2a224-d122-4a35-a96e-0d1aa0b2c115",
   "metadata": {},
   "outputs": [
    {
     "name": "stdout",
     "output_type": "stream",
     "text": [
      "    *\n",
      "   ***\n",
      "  *****\n",
      " *******\n",
      "*********\n",
      " *******\n",
      "  *****\n",
      "   ***\n",
      "    *\n"
     ]
    }
   ],
   "source": [
    "# Pattern 3: Diamond\n",
    "n = 5  # Size of the diamond\n",
    "i = 1  # Counter variable\n",
    "\n",
    "while i <= n:\n",
    "    j = 1\n",
    "    while j <= n-i:\n",
    "        print(\" \", end=\"\")\n",
    "        j += 1\n",
    "\n",
    "    j = 1\n",
    "    while j <= 2*i-1:\n",
    "        print(\"*\", end=\"\")\n",
    "        j += 1\n",
    "    print()\n",
    "    i += 1\n",
    "\n",
    "i = n-1\n",
    "while i >= 1:\n",
    "    j = 1\n",
    "    while j <= n-i:\n",
    "        print(\" \", end=\"\")\n",
    "        j += 1\n",
    "\n",
    "    j = 1\n",
    "    while j <= 2*i-1:\n",
    "        print(\"*\", end=\"\")\n",
    "        j += 1\n",
    "    print()\n",
    "    i -= 1\n"
   ]
  },
  {
   "cell_type": "code",
   "execution_count": 9,
   "id": "604bd55a-2960-4702-a3b7-f3b7b37c4abc",
   "metadata": {},
   "outputs": [
    {
     "name": "stdout",
     "output_type": "stream",
     "text": [
      "10\n",
      "9\n",
      "8\n",
      "7\n",
      "6\n",
      "5\n",
      "4\n",
      "3\n",
      "2\n",
      "1\n"
     ]
    }
   ],
   "source": [
    "#7. Reverse a while loop to display numbers from 10 to 1.\n",
    "#Solution:\n",
    "n = 10  \n",
    "\n",
    "while n >= 1:  \n",
    "    print(n)  \n",
    "    n -= 1  \n"
   ]
  },
  {
   "cell_type": "code",
   "execution_count": 10,
   "id": "7cbcc962-ada1-47e1-8610-1ae4826cfcef",
   "metadata": {},
   "outputs": [
    {
     "name": "stdout",
     "output_type": "stream",
     "text": [
      "10\n",
      "9\n",
      "8\n",
      "7\n",
      "6\n",
      "5\n",
      "4\n",
      "3\n",
      "2\n",
      "1\n"
     ]
    }
   ],
   "source": [
    "#8. Reverse a while loop to display numbers from 10 to 1.\n",
    "#Solution:\n",
    "n = 10  \n",
    "\n",
    "while n >= 1:  \n",
    "    print(n)  \n",
    "    n -= 1  \n"
   ]
  },
  {
   "cell_type": "code",
   "execution_count": null,
   "id": "845ace9b-574a-44f5-97d0-4e4b573a8c85",
   "metadata": {},
   "outputs": [],
   "source": []
  }
 ],
 "metadata": {
  "kernelspec": {
   "display_name": "Python 3 (ipykernel)",
   "language": "python",
   "name": "python3"
  },
  "language_info": {
   "codemirror_mode": {
    "name": "ipython",
    "version": 3
   },
   "file_extension": ".py",
   "mimetype": "text/x-python",
   "name": "python",
   "nbconvert_exporter": "python",
   "pygments_lexer": "ipython3",
   "version": "3.10.6"
  }
 },
 "nbformat": 4,
 "nbformat_minor": 5
}
